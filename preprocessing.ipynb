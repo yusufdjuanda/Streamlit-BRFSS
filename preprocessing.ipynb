{
 "cells": [
  {
   "attachments": {},
   "cell_type": "markdown",
   "metadata": {},
   "source": [
    "## Creating transformed dataset"
   ]
  },
  {
   "cell_type": "code",
   "execution_count": null,
   "metadata": {},
   "outputs": [],
   "source": [
    "import pandas as pd\n",
    "import numpy as np\n",
    "import matplotlib.pyplot as plt\n",
    "import seaborn as sns"
   ]
  },
  {
   "cell_type": "code",
   "execution_count": null,
   "metadata": {},
   "outputs": [],
   "source": [
    "df = pd.read_csv('Behavioral_Risk_Factor_Surveillance_System__BRFSS__Prevalence_Data__2011_to_present_.csv', sep = \";\")"
   ]
  },
  {
   "cell_type": "code",
   "execution_count": null,
   "metadata": {},
   "outputs": [],
   "source": [
    "df['Sample_Size'] = df['Sample_Size'].str.replace(\",\", \"\")\n",
    "df['Sample_Size'] = df['Sample_Size'].astype('int64')\n",
    "#Cahnge columns name\n",
    "df.rename(columns = {\"Break_Out\":\"Category\",  \"Break_Out_Category\":\"Class_Category\"}, inplace= True)\n"
   ]
  },
  {
   "cell_type": "code",
   "execution_count": null,
   "metadata": {},
   "outputs": [],
   "source": [
    "# Change the response to binary answers\n",
    "df['Response'] = df['Response'].replace({\"Never smoked\": \"No\", \"Former smoker\":\"No\", \"Smoke some days\":\"Yes\", \"Smoke everyday\":\"Yes\"})\n"
   ]
  },
  {
   "cell_type": "code",
   "execution_count": null,
   "metadata": {},
   "outputs": [],
   "source": [
    "# Creating dictionary as a reference\n",
    "total_sample_size = dict(df.groupby([\"Year\",\"Question\",\"Category\"])[\"Sample_Size\"].sum())\n",
    "\n",
    "def get_percentage(col1,col2,col3,col4):\n",
    "    for year, total_number in total_sample_size.items():\n",
    "        if (col1, col2, col3) == year:\n",
    "            return round((col4 / total_number)*100, 2)\n",
    "            \n",
    "def get_total_size(col1,col2,col3):\n",
    "    for year, total_number in total_sample_size.items():\n",
    "        if (col1,col2,col3) == year:\n",
    "            return total_number"
   ]
  },
  {
   "cell_type": "code",
   "execution_count": null,
   "metadata": {},
   "outputs": [],
   "source": [
    "# Vectorizing the function to numpy to shorten the process\n",
    "vectfunc = np.vectorize(get_percentage)\n",
    "vect_get_total_size = np.vectorize(get_total_size)"
   ]
  },
  {
   "cell_type": "code",
   "execution_count": null,
   "metadata": {},
   "outputs": [],
   "source": [
    "# creating new column for percentage\n",
    "df[\"Percentage\"] = vectfunc(df['Year'], df['Question'], df['Category'],df['Sample_Size'])"
   ]
  },
  {
   "cell_type": "code",
   "execution_count": null,
   "metadata": {},
   "outputs": [],
   "source": [
    "# creating new column for Total Sample Size based on the question and year\n",
    "df[\"Total_SS\"] = vect_get_total_size(df['Year'], df['Question'], df['Category'])"
   ]
  },
  {
   "cell_type": "code",
   "execution_count": null,
   "metadata": {},
   "outputs": [],
   "source": [
    "df_final = df.groupby([\"Year\",\"Class\", \"Topic\", \"Question\", \"Response\",\"Category\",\"Class_Category\", \"Total_SS\"]).aggregate({'Sample_Size': 'sum','Percentage': 'sum'}).reset_index()\n",
    "df_final.to_csv(\"BRFSS.csv\", index = False)\n"
   ]
  },
  {
   "cell_type": "code",
   "execution_count": null,
   "metadata": {},
   "outputs": [],
   "source": [
    "df.to_csv(\"brfss_backup.csv\", index = False)"
   ]
  },
  {
   "attachments": {},
   "cell_type": "markdown",
   "metadata": {},
   "source": [
    "# Creating dataset for Smoker Status with additional lattitude and longitude data"
   ]
  },
  {
   "cell_type": "code",
   "execution_count": null,
   "metadata": {},
   "outputs": [],
   "source": [
    "import pandas as pd\n",
    "import re\n",
    "import numpy as np\n"
   ]
  },
  {
   "cell_type": "code",
   "execution_count": null,
   "metadata": {},
   "outputs": [],
   "source": [
    "df_smokers = pd.read_csv(\"brfss_backup.csv\")"
   ]
  },
  {
   "cell_type": "code",
   "execution_count": null,
   "metadata": {},
   "outputs": [],
   "source": [
    "# Removing null values\n",
    "df_smokers.drop(df_smokers[df_smokers[\"Locationabbr\"] == \"UW\"].index, axis = 0, inplace = True)\n",
    "df_smokers.drop(df_smokers[df_smokers[\"Locationabbr\"] == \"US\"].index, axis = 0, inplace = True)"
   ]
  },
  {
   "cell_type": "code",
   "execution_count": null,
   "metadata": {},
   "outputs": [],
   "source": [
    "df_smokers = df_smokers.loc[df_smokers['Topic'] == 'Smoker Status']"
   ]
  },
  {
   "cell_type": "code",
   "execution_count": null,
   "metadata": {},
   "outputs": [],
   "source": [
    "# Creating function to seperate lat and long from Geo Location function\n",
    "\n",
    "def get_lat(col):\n",
    "    tmp = []\n",
    "    for i in col:\n",
    "        latlong = re.findall(r\"(-?\\d+.\\d+)\", i) \n",
    "        tmp.append(latlong[0])\n",
    "    return tmp\n",
    "\n",
    "def get_long(col):\n",
    "    tmp = []\n",
    "    for i in col:\n",
    "        latlong = re.findall(r\"(-?\\d+.\\d+)\", i) \n",
    "        tmp.append(latlong[1])\n",
    "    return tmp\n",
    "\n",
    "df_smokers['latitude'] = get_lat(df_smokers['GeoLocation'])\n",
    "df_smokers['longitude'] = get_long(df_smokers['GeoLocation'])\n",
    "\n",
    "\n"
   ]
  },
  {
   "cell_type": "code",
   "execution_count": null,
   "metadata": {},
   "outputs": [],
   "source": [
    "# Make the percentage of sample size according to the location\n",
    "total_sample_size = dict(df_smokers.groupby([\"Year\",\"Locationdesc\"])[\"Sample_Size\"].sum())\n",
    "\n",
    "def get_percentage(a,b,c):\n",
    "    for year, total_number in total_sample_size.items():\n",
    "        if (a, b) == year:\n",
    "            return round((c / total_number)*100, 2)\n",
    "            \n",
    "def get_total_size(a,b):\n",
    "    for year, total_number in total_sample_size.items():\n",
    "        if (a,b) == year:\n",
    "            return total_number\n",
    "\n",
    "get_percentage_vect = np.vectorize(get_percentage)\n",
    "get_total_size_vect = np.vectorize(get_total_size)\n",
    "\n",
    "df_smokers['Percentage_Loc'] = get_percentage_vect(df_smokers['Year'], df_smokers['Locationdesc'], df_smokers['Sample_Size'])\n",
    "df_smokers['Total_SS_Loc'] = get_total_size_vect(df_smokers['Year'], df_smokers['Locationdesc'])"
   ]
  },
  {
   "cell_type": "code",
   "execution_count": null,
   "metadata": {},
   "outputs": [],
   "source": [
    "\n",
    "df_smokers_to_csv = df_smokers.groupby([\"Year\",\"Locationdesc\",\"Response\",\"Total_SS_Loc\",\"latitude\", \"longitude\"]).aggregate({\"Percentage_Loc\":\"sum\", \"Sample_Size\":\"sum\"}).reset_index()\n"
   ]
  },
  {
   "cell_type": "code",
   "execution_count": null,
   "metadata": {},
   "outputs": [],
   "source": [
    "df_smokers_to_csv.to_csv(\"brfss_smokers.csv\", index = False)"
   ]
  }
 ],
 "metadata": {
  "kernelspec": {
   "display_name": "Python 3",
   "language": "python",
   "name": "python3"
  },
  "language_info": {
   "codemirror_mode": {
    "name": "ipython",
    "version": 3
   },
   "file_extension": ".py",
   "mimetype": "text/x-python",
   "name": "python",
   "nbconvert_exporter": "python",
   "pygments_lexer": "ipython3",
   "version": "3.10.6 (tags/v3.10.6:9c7b4bd, Aug  1 2022, 21:53:49) [MSC v.1932 64 bit (AMD64)]"
  },
  "orig_nbformat": 4,
  "vscode": {
   "interpreter": {
    "hash": "f3b5783c9bc17b57171da530ce58fd36f103d3e4c47a714a13fb7d3a9a05893a"
   }
  }
 },
 "nbformat": 4,
 "nbformat_minor": 2
}
